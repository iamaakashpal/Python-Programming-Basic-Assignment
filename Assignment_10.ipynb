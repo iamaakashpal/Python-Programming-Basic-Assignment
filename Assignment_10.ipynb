{
 "cells": [
  {
   "cell_type": "markdown",
   "metadata": {},
   "source": [
    "    1.Write a Python program to find sum of elements in list?"
   ]
  },
  {
   "cell_type": "code",
   "execution_count": 14,
   "metadata": {},
   "outputs": [
    {
     "name": "stdout",
     "output_type": "stream",
     "text": [
      "Your List : [1, 2, 3, 4, 5]\n",
      "Sum of all elements in list is : 15\n"
     ]
    }
   ],
   "source": [
    "num=int(input(\"How many numbers do you want in a list : \"))\n",
    "l=[]\n",
    "a=0\n",
    "for i in range(num):\n",
    "    ap=int(input(\"Enter a Number :\"))\n",
    "    l.append(ap)\n",
    "    a=a+l[i]\n",
    "print(\"Your List :\",l)\n",
    "print(\"Sum of all elements in list is :\",a)"
   ]
  },
  {
   "cell_type": "markdown",
   "metadata": {},
   "source": [
    "    2.Write a Python program to  Multiply all numbers in the list?"
   ]
  },
  {
   "cell_type": "code",
   "execution_count": 15,
   "metadata": {},
   "outputs": [
    {
     "name": "stdout",
     "output_type": "stream",
     "text": [
      "Your List : [11, 7, 1]\n",
      "Multiply of all elements in list is : 77\n"
     ]
    }
   ],
   "source": [
    "num=int(input(\"How many numbers do you want in a list : \"))\n",
    "l=[]\n",
    "mul=1\n",
    "for i in range(num):\n",
    "    ap=int(input(\"Enter a Number :\"))\n",
    "    l.append(ap)\n",
    "    mul=mul*l[i]\n",
    "print(\"Your List :\",l)\n",
    "print(\"Multiply of all elements in list is :\",mul)"
   ]
  },
  {
   "cell_type": "markdown",
   "metadata": {},
   "source": [
    "    3.Write a Python program to find smallest number in a list?"
   ]
  },
  {
   "cell_type": "code",
   "execution_count": 16,
   "metadata": {},
   "outputs": [
    {
     "name": "stdout",
     "output_type": "stream",
     "text": [
      "Your List : [10, 2, 50, 80, 40]\n",
      "Smallest Number from List is : 2\n"
     ]
    }
   ],
   "source": [
    "num=int(input(\"How many numbers do you want in a list : \"))\n",
    "l=[]\n",
    "for i in range(num):\n",
    "    ap=int(input(\"Enter a Number : \"))\n",
    "    l.append(ap)\n",
    "print(\"Your List :\",l)\n",
    "smallnum=l[0]\n",
    "for i in range(len(l)):\n",
    "    if l[i]<smallnum:\n",
    "        smallnum=l[i]\n",
    "print(\"Smallest Number from List is :\",smallnum)"
   ]
  },
  {
   "cell_type": "markdown",
   "metadata": {},
   "source": [
    "    4.Write a Python program to find largest number in a list?"
   ]
  },
  {
   "cell_type": "code",
   "execution_count": 17,
   "metadata": {},
   "outputs": [
    {
     "name": "stdout",
     "output_type": "stream",
     "text": [
      "Your List : [10, 2, 3000, 40, 8]\n",
      "Largest Number from List is : 3000\n"
     ]
    }
   ],
   "source": [
    "num=int(input(\"How many numbers do you want in a list : \"))\n",
    "l=[]\n",
    "for i in range(num):\n",
    "    ap=int(input(\"Enter a Number :\"))\n",
    "    l.append(ap)\n",
    "print(\"Your List :\",l)\n",
    "largenum=l[0]\n",
    "for i in range(len(l)):\n",
    "    if l[i]>largenum:\n",
    "        largenum=l[i]\n",
    "print(\"Largest Number from List is :\",largenum)"
   ]
  },
  {
   "cell_type": "markdown",
   "metadata": {},
   "source": [
    "    5.Write a Python program to find second largest number in a list?"
   ]
  },
  {
   "cell_type": "code",
   "execution_count": 22,
   "metadata": {},
   "outputs": [
    {
     "name": "stdout",
     "output_type": "stream",
     "text": [
      "Your List : [40, 50, 20, 70, 4]\n",
      "First Large Number : 70\n",
      "Second Large Number : 50\n"
     ]
    }
   ],
   "source": [
    "num=int(input(\"How many numbers do you want in a list : \"))\n",
    "l=[]\n",
    "for i in range(num):\n",
    "    ap=int(input(\"Enter a Number :\"))\n",
    "    l.append(ap)\n",
    "print(\"Your List :\",l)\n",
    "\n",
    "firstlargenumber=l[0]\n",
    "secondlargenumber=l[0]\n",
    "\n",
    "for i in range(len(l)):\n",
    "    if l[i]>firstlargenumber:\n",
    "        firstlargenumber=l[i]\n",
    "print(\"First Large Number :\",firstlargenumber)\n",
    "\n",
    "for i in range(len(l)):\n",
    "    if l[i]>secondlargenumber and l[i]!=firstlargenumber:\n",
    "        secondlargenumber=l[i]\n",
    "print(\"Second Large Number :\",secondlargenumber)"
   ]
  },
  {
   "cell_type": "markdown",
   "metadata": {},
   "source": [
    "    6.Write a Python program to find N largest elements from a list?"
   ]
  },
  {
   "cell_type": "code",
   "execution_count": 28,
   "metadata": {},
   "outputs": [
    {
     "name": "stdout",
     "output_type": "stream",
     "text": [
      "Your List : [70, 80, 40, 90, 20]\n",
      "3 Largest Number from List are : [90, 80, 70]\n"
     ]
    }
   ],
   "source": [
    "l = []\n",
    "num=int(input(\"How many numbers do you want in a list : \"))\n",
    "for i in range(num):\n",
    "    ap=int(input(\"Enter a Number :\"))\n",
    "    l.append(ap)\n",
    "print(\"Your List :\",l)\n",
    "fl = []\n",
    "nnum = int(input(\"How many large Number do you want from list :\"))\n",
    "for i in range(0, nnum):\n",
    "    largenum = l[0]\n",
    "    for i in range(len(l)):\t\n",
    "        if l[i] > largenum:\n",
    "            largenum = l[i]\n",
    "    l.remove(largenum)\n",
    "    fl.append(largenum)\n",
    "print(nnum,\"Largest Number from List are :\",fl)"
   ]
  },
  {
   "cell_type": "markdown",
   "metadata": {},
   "source": [
    "    7.Write a Python program to print even numbers in a list?"
   ]
  },
  {
   "cell_type": "code",
   "execution_count": 29,
   "metadata": {},
   "outputs": [
    {
     "name": "stdout",
     "output_type": "stream",
     "text": [
      "Your List : [6, 5, 4, 9, 8, 7]\n",
      "Even Number from List : [6, 4, 8]\n"
     ]
    }
   ],
   "source": [
    "num=int(input(\"How many numbers do you want in a list : \"))\n",
    "l=[]\n",
    "for i in range(num):\n",
    "    ap=int(input(\"Enter a Number :\"))\n",
    "    l.append(ap)\n",
    "print(\"Your List :\",l)\n",
    "el=[]\n",
    "# print(\"Even Number from List :\")\n",
    "for i in range(len(l)):\n",
    "    if l[i]%2==0:\n",
    "        el.append(l[i])\n",
    "        # print(l[i],end=\" \")\n",
    "# print()\n",
    "print(\"Even Number from List :\",el)"
   ]
  },
  {
   "cell_type": "markdown",
   "metadata": {},
   "source": [
    "    8.Write a Python program to print odd numbers in a List?"
   ]
  },
  {
   "cell_type": "code",
   "execution_count": 30,
   "metadata": {},
   "outputs": [
    {
     "name": "stdout",
     "output_type": "stream",
     "text": [
      "Your List : [7, 8, 9, 4, 5, 6]\n",
      "Odd Number from List : [7, 9, 5]\n"
     ]
    }
   ],
   "source": [
    "num=int(input(\"How many numbers do you want in a list : \"))\n",
    "l=[]\n",
    "for i in range(num):\n",
    "    ap=int(input(\"Enter a Number :\"))\n",
    "    l.append(ap)\n",
    "print(\"Your List :\",l)\n",
    "ol=[]\n",
    "# print(\"Even Number from List :\")\n",
    "for i in range(len(l)):\n",
    "    if l[i]%2!=0:\n",
    "        ol.append(l[i])\n",
    "        # print(l[i],end=\" \")\n",
    "# print()\n",
    "print(\"Odd Number from List :\",ol)"
   ]
  },
  {
   "cell_type": "markdown",
   "metadata": {},
   "source": [
    "    9.Write a Python program to Remove empty List from List?"
   ]
  },
  {
   "cell_type": "code",
   "execution_count": 37,
   "metadata": {},
   "outputs": [
    {
     "name": "stdout",
     "output_type": "stream",
     "text": [
      "Your List : [10, 20, 30, [], 50, 60, [100, 200, 300], [], 'Hi']\n",
      "\n",
      "After Remove Empty List : [10, 20, 30, 50, 60, [100, 200, 300], 'Hi']\n"
     ]
    }
   ],
   "source": [
    "a=[10,20,30,[],50,60,[100,200,300],[],\"Hi\"]\n",
    "print(\"Your List :\",a)\n",
    "b=[]\n",
    "for i in a:\n",
    "    if i!=[]:\n",
    "        b.append(i)\n",
    "print()\n",
    "print(\"After Remove Empty List :\",b)"
   ]
  },
  {
   "cell_type": "markdown",
   "metadata": {},
   "source": [
    "    10.Write a Python program to Cloning or Copying a list?"
   ]
  },
  {
   "cell_type": "code",
   "execution_count": 9,
   "metadata": {},
   "outputs": [
    {
     "name": "stdout",
     "output_type": "stream",
     "text": [
      "Your List :  [20, 40, 80, 90, 1]\n",
      "Copy Of List : [20, 40, 80, 90, 1]\n"
     ]
    }
   ],
   "source": [
    "num=int(input(\"How many numbers do you want in a list : \"))\n",
    "l1=[]\n",
    "l2=[]\n",
    "for i in range(num):\n",
    "    ap=int(input(\"Enter a Number :\"))\n",
    "    l1.append(ap)\n",
    "print(\"Your List : \",l1)\n",
    "for i in l1:\n",
    "    l2.append(i)\n",
    "print(\"Copy Of List :\",l2)"
   ]
  },
  {
   "cell_type": "markdown",
   "metadata": {},
   "source": [
    "    11.Write a Python program to Count occurrences of an element in a list?"
   ]
  },
  {
   "cell_type": "code",
   "execution_count": 43,
   "metadata": {},
   "outputs": [
    {
     "name": "stdout",
     "output_type": "stream",
     "text": [
      "Your List : [70, 80, 90, 100, 70, 80, 90, 70, 80]\n",
      "Occurrences of Element in a list : {70: 3, 80: 3, 90: 2, 100: 1}\n"
     ]
    }
   ],
   "source": [
    "num=int(input(\"How many numbers do you want in a list : \"))\n",
    "l=[]\n",
    "for i in range(num):\n",
    "    ap=int(input(\"Enter a Number :\"))\n",
    "    l.append(ap)\n",
    "print(\"Your List :\",l)\n",
    "s = {}\n",
    "for i in l:\n",
    "    if i in s:\n",
    "        s[i] = s[i]+1\n",
    "    else:\n",
    "        s[i] = 1\n",
    "print(\"Occurrences of Element in a list :\",s)"
   ]
  }
 ],
 "metadata": {
  "interpreter": {
   "hash": "b3ba2566441a7c06988d0923437866b63cedc61552a5af99d1f4fb67d367b25f"
  },
  "kernelspec": {
   "display_name": "Python 3.9.7 64-bit ('base': conda)",
   "language": "python",
   "name": "python3"
  },
  "language_info": {
   "codemirror_mode": {
    "name": "ipython",
    "version": 3
   },
   "file_extension": ".py",
   "mimetype": "text/x-python",
   "name": "python",
   "nbconvert_exporter": "python",
   "pygments_lexer": "ipython3",
   "version": "3.9.7"
  },
  "orig_nbformat": 4
 },
 "nbformat": 4,
 "nbformat_minor": 2
}
