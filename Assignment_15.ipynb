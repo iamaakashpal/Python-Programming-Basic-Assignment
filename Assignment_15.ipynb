{
 "cells": [
  {
   "cell_type": "markdown",
   "metadata": {},
   "source": [
    "    Question 1:\n",
    "    \n",
    "    Please write a program using generator to print the numbers which can be divisible by 5 and\n",
    "    7 between 0 and n in comma separated form while n is input by console.\n",
    "    Example:\n",
    "    If the following n is given as input to the program:\n",
    "    100\n",
    "    Then, the output of the program should be:\n",
    "    0,35,70"
   ]
  },
  {
   "cell_type": "code",
   "execution_count": 8,
   "metadata": {},
   "outputs": [],
   "source": [
    "def gen():\n",
    "    num=int(input(\"Enter Range :\"))\n",
    "    print(\"Numbers divisible by 5 and 7 between 0 and\",num,\"are : \")\n",
    "    for i in range(num+1):\n",
    "        if i % 5 == 0 and i % 7 == 0:\n",
    "            yield i"
   ]
  },
  {
   "cell_type": "code",
   "execution_count": 9,
   "metadata": {},
   "outputs": [
    {
     "name": "stdout",
     "output_type": "stream",
     "text": [
      "Numbers divisible by 5 and 7 between 0 and 100 are : \n",
      "0,35,70,"
     ]
    }
   ],
   "source": [
    "for i in gen():\n",
    "    print(i,end=\",\")"
   ]
  },
  {
   "cell_type": "markdown",
   "metadata": {},
   "source": [
    "    Question 2:\n",
    "    \n",
    "    Please write a program using generator to print the even numbers between 0 and n in comma\n",
    "    separated form while n is input by console.\n",
    "    Example:\n",
    "    If the following n is given as input to the program:\n",
    "    10\n",
    "    Then, the output of the program should be:\n",
    "    0,2,4,6,8,10"
   ]
  },
  {
   "cell_type": "code",
   "execution_count": 15,
   "metadata": {},
   "outputs": [],
   "source": [
    "def evennum():\n",
    "    num=int(input(\"Enter Range : \"))\n",
    "    print(\"Even Numbers between 0 and\",num,\"are : \")\n",
    "    for i in range(num+1):\n",
    "        if i % 2 == 0:\n",
    "            yield i"
   ]
  },
  {
   "cell_type": "code",
   "execution_count": 16,
   "metadata": {},
   "outputs": [
    {
     "name": "stdout",
     "output_type": "stream",
     "text": [
      "Even Numbers between 0 and 10 are : \n",
      "0,2,4,6,8,10,"
     ]
    }
   ],
   "source": [
    "for i in evennum():\n",
    "    print(i,end=\",\")"
   ]
  },
  {
   "cell_type": "markdown",
   "metadata": {},
   "source": [
    "    Question 3:\n",
    "    \n",
    "    The Fibonacci Sequence is computed based on the following formula:\n",
    "    f(n)=0 if n=0\n",
    "    f(n)=1 if n=1\n",
    "    f(n)=f(n-1)+f(n-2) if n>1\n",
    "    Please write a program using list comprehension to print the Fibonacci Sequence in comma\n",
    "    separated form with a given n input by console.\n",
    "    Example:\n",
    "    If the following n is given as input to the program:\n",
    "    7\n",
    "    Then, the output of the program should be:\n",
    "    0,1,1,2,3,5,8,13"
   ]
  },
  {
   "cell_type": "code",
   "execution_count": 55,
   "metadata": {},
   "outputs": [
    {
     "name": "stdout",
     "output_type": "stream",
     "text": [
      "Fibonacci Sequence from 0 to 7 th range are :\n",
      "0,1,1,2,3,5,8,13,"
     ]
    }
   ],
   "source": [
    "num=int(input(\"Enter Range :\"))\n",
    "print(\"Fibonacci Sequence from 0 to\",num,\"th range are :\")\n",
    "l=[0,1]\n",
    "[l.append(l[-2]+l[-1]) for i in range(num-1)]\n",
    "# print(l)\n",
    "for i in l:\n",
    "    print(i,end=\",\")"
   ]
  },
  {
   "cell_type": "markdown",
   "metadata": {},
   "source": [
    "    Question 4:\n",
    "    \n",
    "    Assuming that we have some email addresses in the \"username@companyname.com\" format,\n",
    "    please write program to print the user name of a given email address. Both user names and\n",
    "    company names are composed of letters only.\n",
    "    Example:\n",
    "    If the following email address is given as input to the program:\n",
    "    john@google.com\n",
    "    Then, the output of the program should be:\n",
    "    john"
   ]
  },
  {
   "cell_type": "code",
   "execution_count": 83,
   "metadata": {},
   "outputs": [
    {
     "name": "stdout",
     "output_type": "stream",
     "text": [
      "Your Email Address : john@google.com\n",
      "User Name : john\n"
     ]
    }
   ],
   "source": [
    "# Method 1\n",
    "email = input(\"Enter email addresses: \")\n",
    "print(\"Your Email Address :\",email)\n",
    "a=email.split('@')\n",
    "print ('User Name :',a[0])"
   ]
  },
  {
   "cell_type": "code",
   "execution_count": 68,
   "metadata": {},
   "outputs": [
    {
     "name": "stdout",
     "output_type": "stream",
     "text": [
      "Your Email Address : john@google.com\n",
      "User Name : john\n"
     ]
    }
   ],
   "source": [
    "# Method 2\n",
    "import re\n",
    "email = input(\"Enter email addresses: \")\n",
    "print(\"Your Email Address :\",email)\n",
    "pat2 = \"(\\w+)@((\\w+\\.)+(com))\"\n",
    "r2 = re.match(pat2,email)\n",
    "print ('User Name :',r2.group(1))"
   ]
  },
  {
   "cell_type": "markdown",
   "metadata": {},
   "source": [
    "    Question 5:\n",
    "    \n",
    "    Define a class named Shape and its subclass Square. The Square class has an init function\n",
    "    which takes a length as argument. Both classes have a area function which can print the area\n",
    "    of the shape where Shape's area is 0 by default."
   ]
  },
  {
   "cell_type": "code",
   "execution_count": 81,
   "metadata": {},
   "outputs": [],
   "source": [
    "class Shape:\n",
    "        def __init__(self):\n",
    "            pass\n",
    "\n",
    "        def show_shapes(self):\n",
    "            print('Shapes: \\n1.Square \\n2.Triangle \\n3.Rectangle \\n4.Circle \\n5.Trapezium')\n",
    "\n",
    "        def get_area(self):\n",
    "            area = 0\n",
    "            return area\n",
    "\n",
    "        class Square:\n",
    "\n",
    "            def __init__(self):\n",
    "                self.side = 9\n",
    "\n",
    "            def set_side(self, usr_input):\n",
    "                self.side = usr_input\n",
    "\n",
    "            def get_area(self):\n",
    "                area = self.side ** 2\n",
    "                return f'{area :0.2f}'\n",
    "\n",
    "            def get_perimeter(self):\n",
    "                return f'{4 * self.side :0.2f}'"
   ]
  }
 ],
 "metadata": {
  "interpreter": {
   "hash": "b3ba2566441a7c06988d0923437866b63cedc61552a5af99d1f4fb67d367b25f"
  },
  "kernelspec": {
   "display_name": "Python 3.9.7 64-bit ('base': conda)",
   "language": "python",
   "name": "python3"
  },
  "language_info": {
   "codemirror_mode": {
    "name": "ipython",
    "version": 3
   },
   "file_extension": ".py",
   "mimetype": "text/x-python",
   "name": "python",
   "nbconvert_exporter": "python",
   "pygments_lexer": "ipython3",
   "version": "3.9.7"
  },
  "orig_nbformat": 4
 },
 "nbformat": 4,
 "nbformat_minor": 2
}
