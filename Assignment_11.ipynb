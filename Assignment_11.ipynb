{
 "cells": [
  {
   "cell_type": "markdown",
   "metadata": {},
   "source": [
    "    1.\tWrite a Python program to find words which are greater than given length k?"
   ]
  },
  {
   "cell_type": "code",
   "execution_count": 1,
   "metadata": {},
   "outputs": [
    {
     "name": "stdout",
     "output_type": "stream",
     "text": [
      "['paragraph', 'sentences', 'developing']\n"
     ]
    }
   ],
   "source": [
    "def str_len(k, s):\n",
    "    l = []\n",
    "    word = s.split(\" \")\n",
    "    \n",
    "    for i in word:\n",
    "        if len(i) > k:\n",
    "            l.append(i)\n",
    "    return l\n",
    "\n",
    "k = 7\n",
    "s =\"A paragraph is a series of related sentences developing a central idea, called the topic.\"\n",
    "print(str_len(k, s))\n"
   ]
  },
  {
   "cell_type": "markdown",
   "metadata": {},
   "source": [
    "    2.\tWrite a Python program for removing i-th character from a string?"
   ]
  },
  {
   "cell_type": "code",
   "execution_count": 2,
   "metadata": {},
   "outputs": [
    {
     "name": "stdout",
     "output_type": "stream",
     "text": [
      "!! Helo Python !!\n"
     ]
    }
   ],
   "source": [
    "def del_char(s, i):\n",
    "\n",
    "    for j in range(len(s)):\n",
    "        if j==i:\n",
    "            s=s.replace(s[i],\"\",1)\n",
    "    return s\n",
    "\n",
    "str = \"!! Hello Python !!\"\n",
    "\n",
    "i = 7\n",
    "print(del_char(str,i-1))"
   ]
  },
  {
   "cell_type": "markdown",
   "metadata": {},
   "source": [
    "    3.\tWrite a Python program to split and join a string?"
   ]
  },
  {
   "cell_type": "code",
   "execution_count": 3,
   "metadata": {},
   "outputs": [
    {
     "name": "stdout",
     "output_type": "stream",
     "text": [
      "After Splitting:  ['Welcome', 'to', 'Python']\n",
      "After joining:  Welcome to Python\n"
     ]
    }
   ],
   "source": [
    "\n",
    "def split_str(s):\n",
    "    list_str = s.split(' ')\n",
    "    return list_str\n",
    "\n",
    "def join_string(list_str):\n",
    "    s = ' '.join(list_str)\n",
    "    return s\n",
    "\n",
    "str = 'Welcome to Python'\n",
    "\n",
    "list_str = split_str(str)\n",
    "print(\"After Splitting: \",list_str)\n",
    "\n",
    "j_str = join_string(list_str)\n",
    "print(\"After joining: \",j_str)"
   ]
  },
  {
   "cell_type": "markdown",
   "metadata": {},
   "source": [
    "    4.\tWrite a Python to check if a given string is binary string or not?"
   ]
  },
  {
   "cell_type": "code",
   "execution_count": 15,
   "metadata": {},
   "outputs": [
    {
     "name": "stdout",
     "output_type": "stream",
     "text": [
      "Given str is a binary string\n"
     ]
    }
   ],
   "source": [
    "str = \"01100000001\"\n",
    "# str = \"0110000000aaa1\"\n",
    "a = '10'\n",
    "count = 0\n",
    "for char in str:\n",
    "   if char not in a:\n",
    "      count = 1\n",
    "      break\n",
    "   else:\n",
    "      pass\n",
    "if count:\n",
    "   print(\"Given str is not a binary string\")\n",
    "else:\n",
    "   print(\"Given str is a binary string\")"
   ]
  },
  {
   "cell_type": "markdown",
   "metadata": {},
   "source": [
    "    5.\tWrite a Python program to find uncommon words from two Strings?"
   ]
  },
  {
   "cell_type": "code",
   "execution_count": 24,
   "metadata": {},
   "outputs": [
    {
     "name": "stdout",
     "output_type": "stream",
     "text": [
      "['not']\n"
     ]
    }
   ],
   "source": [
    "def uncommon_word(s1, s2):\n",
    "\tcount = {}\n",
    "\n",
    "\tfor word in s1.split():\n",
    "\t\tcount[word] = count.get(word, 0) + 1\n",
    "\n",
    "\tfor word in s2.split():\n",
    "\t\tcount[word] = count.get(word, 0) + 1\n",
    "\n",
    "\treturn [word for word in count if count[word] == 1]\n",
    "\n",
    "s1 = \"str is not a binary string\"\n",
    "s2 = \"str is a binary string\"\n",
    "\n",
    "print(uncommon_word(s1,s2))\n"
   ]
  },
  {
   "cell_type": "markdown",
   "metadata": {},
   "source": [
    "    6.\tWrite a Python to find all duplicate characters in string?"
   ]
  },
  {
   "cell_type": "code",
   "execution_count": 31,
   "metadata": {},
   "outputs": [
    {
     "name": "stdout",
     "output_type": "stream",
     "text": [
      "s t r   i a n\n"
     ]
    }
   ],
   "source": [
    "str = \"str is a binary string\"\n",
    "duplicate = []\n",
    "for i in str:\n",
    "    if str.count(i) > 1:\n",
    "        if i not in duplicate:\n",
    "            duplicate.append(i)\n",
    "print(*duplicate)"
   ]
  },
  {
   "cell_type": "markdown",
   "metadata": {},
   "source": [
    "    7.\tWrite a Python Program to check if a string contains any special character?"
   ]
  },
  {
   "cell_type": "code",
   "execution_count": 33,
   "metadata": {},
   "outputs": [
    {
     "name": "stdout",
     "output_type": "stream",
     "text": [
      "String does not contain any special characters.\n"
     ]
    }
   ],
   "source": [
    "import re\n",
    "\n",
    "str = input('Enter a string: ')\n",
    "\n",
    "if(bool(re.match('^[a-zA-Z0-9]*$', str)) == True):\n",
    "    print('String does not contain any special characters.')\n",
    "else:\n",
    "    print('The string contains special characters.')"
   ]
  }
 ],
 "metadata": {
  "interpreter": {
   "hash": "b3ba2566441a7c06988d0923437866b63cedc61552a5af99d1f4fb67d367b25f"
  },
  "kernelspec": {
   "display_name": "Python 3.9.7 64-bit ('base': conda)",
   "language": "python",
   "name": "python3"
  },
  "language_info": {
   "codemirror_mode": {
    "name": "ipython",
    "version": 3
   },
   "file_extension": ".py",
   "mimetype": "text/x-python",
   "name": "python",
   "nbconvert_exporter": "python",
   "pygments_lexer": "ipython3",
   "version": "3.9.7"
  },
  "orig_nbformat": 4
 },
 "nbformat": 4,
 "nbformat_minor": 2
}
