{
 "cells": [
  {
   "cell_type": "markdown",
   "metadata": {},
   "source": [
    "    1. Write a Python program to Extract Unique values dictionary values?"
   ]
  },
  {
   "cell_type": "code",
   "execution_count": 37,
   "metadata": {},
   "outputs": [
    {
     "name": "stdout",
     "output_type": "stream",
     "text": [
      "Current Dictionary : {'p': [10, 30, 20], 'q': [10, 20, 30, 41], 'r': [40, 50, 60], 's': [60, 50, 40]}\n",
      "Unique Values in Dictionary: [40, 41, 10, 50, 20, 60, 30]\n"
     ]
    }
   ],
   "source": [
    "d={'p':[10,30,20],'q':[10,20,30,41],'r':[40,50,60],'s':[60,50,40]}\n",
    "print(\"Current Dictionary :\" ,d)\n",
    "op=[]\n",
    "for i in d.values():\n",
    "    for j in i:\n",
    "        op.append(j)\n",
    "l=list(set(op))\n",
    "print(\"Unique Values in Dictionary:\" , l) "
   ]
  },
  {
   "cell_type": "markdown",
   "metadata": {},
   "source": [
    "    2. Write a Python program to find the sum of all items in a dictionary?"
   ]
  },
  {
   "cell_type": "code",
   "execution_count": 48,
   "metadata": {},
   "outputs": [
    {
     "name": "stdout",
     "output_type": "stream",
     "text": [
      "Current Dictionary : {'p': [10, 30, 20], 'q': [10, 20, 30]}\n",
      "Sum of Values in Dictionary : 120\n"
     ]
    }
   ],
   "source": [
    "d={'p':[10,30,20],'q':[10,20,30]}\n",
    "l=[]\n",
    "for i in d.values():\n",
    "    for j in i:\n",
    "        l.append(j)\n",
    "a=sum(l)\n",
    "print(\"Current Dictionary :\" ,d)\n",
    "print(\"Sum of Values in Dictionary :\",a)"
   ]
  },
  {
   "cell_type": "markdown",
   "metadata": {},
   "source": [
    "    3. Write a Python program to Merging two Dictionaries?"
   ]
  },
  {
   "cell_type": "code",
   "execution_count": 61,
   "metadata": {},
   "outputs": [
    {
     "name": "stdout",
     "output_type": "stream",
     "text": [
      "Dictionary 1: {'p': [10, 30, 20], 'q': (40, 50, 60)}\n",
      "Dictionary 2: {'r': 'ABC', 's': 100, 't': (8+6j)}\n",
      "Merged Dictionary : {'p': [10, 30, 20], 'q': (40, 50, 60), 'r': 'ABC', 's': 100, 't': (8+6j)}\n"
     ]
    }
   ],
   "source": [
    "d1={'p':[10,30,20],'q':(40,50,60)}\n",
    "d2={'r':\"ABC\",'s':100,'t':8+6j}\n",
    "l1=list(d1.items())\n",
    "l2=list(d2.items())\n",
    "print(\"Dictionary 1:\" ,d1)\n",
    "print(\"Dictionary 2:\" ,d2)\n",
    "d3=dict(l1+l2)\n",
    "print(\"Merged Dictionary :\",d3)"
   ]
  },
  {
   "cell_type": "markdown",
   "metadata": {},
   "source": [
    "    4. Write a Python program to convert key-values list to flat dictionary?"
   ]
  },
  {
   "cell_type": "code",
   "execution_count": 71,
   "metadata": {},
   "outputs": [
    {
     "name": "stdout",
     "output_type": "stream",
     "text": [
      "Current Dictionary : {'Name': ['Aakash', 'Pal', 'ASP'], 'LuckyNumber': [7, 777, 'ASP0777']}\n",
      "Flat Dictionary : {'Aakash': 7, 'Pal': 777, 'ASP': 'ASP0777'}\n"
     ]
    }
   ],
   "source": [
    "d= {\"Name\": [\"Aakash\",\"Pal\",\"ASP\"], \"LuckyNumber\": [7,777,'ASP0777']}\n",
    "zd= zip(d[\"Name\"], d[\"LuckyNumber\"])\n",
    "f=dict(zd)\n",
    "print(\"Current Dictionary :\",d)\n",
    "print(\"Flat Dictionary :\",f)"
   ]
  },
  {
   "cell_type": "markdown",
   "metadata": {},
   "source": [
    "    5. Write a Python program to insertion at the beginning in OrderedDict?"
   ]
  },
  {
   "cell_type": "code",
   "execution_count": 103,
   "metadata": {},
   "outputs": [
    {
     "name": "stdout",
     "output_type": "stream",
     "text": [
      "Current Dictionary : OrderedDict([(1, 'p'), (3, 'a'), (2, 'c'), (6, 'b'), (5, 'q')])\n",
      "\n",
      "Updated Dictionary : OrderedDict([(1, 'p'), (3, 'a'), (2, 'c'), (6, 'b'), (5, 'q'), (4, 'r')])\n",
      "\n",
      "Final Dictionary : OrderedDict([(4, 'r'), (1, 'p'), (3, 'a'), (2, 'c'), (6, 'b'), (5, 'q')])\n"
     ]
    }
   ],
   "source": [
    "import collections  \n",
    "\n",
    "d1 = collections.OrderedDict([(1,'p') ,(3,'a') ,(2,'c') ,(6,'b') ,(5,'q')])\n",
    "print(\"Current Dictionary :\",d1)\n",
    "print()\n",
    "\n",
    "d1.update({4: 'r'})\n",
    "print(\"Updated Dictionary :\",d1)\n",
    "print()\n",
    "\n",
    "d1.move_to_end(4, last=False)\n",
    "print (\"Final Dictionary :\",d1)"
   ]
  },
  {
   "cell_type": "markdown",
   "metadata": {},
   "source": [
    "    6. Write a Python program to check order of character in string using OrderedDict()?"
   ]
  },
  {
   "cell_type": "code",
   "execution_count": 111,
   "metadata": {},
   "outputs": [
    {
     "name": "stdout",
     "output_type": "stream",
     "text": [
      "False\n",
      "True\n"
     ]
    }
   ],
   "source": [
    "import collections \n",
    "def checkOrder(string, pattern): \n",
    "    d = collections.OrderedDict.fromkeys(string) \n",
    "    ptr = 0\n",
    "    for key,value in d.items(): \n",
    "        if (key == pattern[ptr]): \n",
    "            ptr = ptr + 1\n",
    "        if (ptr == (len(pattern))): \n",
    "            return 'True'\n",
    "    return 'False'\n",
    "\n",
    "string = 'Aakash'\n",
    "pattern = 'Aaa'\n",
    "print (checkOrder(string,pattern))\n",
    "\n",
    "string2= 'Pal'\n",
    "pattern2= 'Pa'\n",
    "print (checkOrder(string2,pattern2)) "
   ]
  },
  {
   "cell_type": "markdown",
   "metadata": {},
   "source": [
    "    7. Write a Python program to sort Python Dictionaries by Key or Value?"
   ]
  },
  {
   "cell_type": "code",
   "execution_count": 94,
   "metadata": {},
   "outputs": [
    {
     "name": "stdout",
     "output_type": "stream",
     "text": [
      "Current Dictionary : {1: 'p', 3: 'a', 2: 'c', 6: 'b', 5: 'q', 4: 'r'}\n",
      "Sorted Dictionary by Key and Value : [(1, 'p'), (2, 'c'), (3, 'a'), (4, 'r'), (5, 'q'), (6, 'b')]\n"
     ]
    }
   ],
   "source": [
    "d = {1:'p' ,3:'a' ,2:'c' ,6:'b' ,5:'q' ,4:'r'}  \n",
    "print(\"Current Dictionary :\" ,d)\n",
    "op=sorted(d.items())\n",
    "print(\"Sorted Dictionary by Key and Value :\",op)"
   ]
  }
 ],
 "metadata": {
  "interpreter": {
   "hash": "b3ba2566441a7c06988d0923437866b63cedc61552a5af99d1f4fb67d367b25f"
  },
  "kernelspec": {
   "display_name": "Python 3.9.7 64-bit ('base': conda)",
   "language": "python",
   "name": "python3"
  },
  "language_info": {
   "codemirror_mode": {
    "name": "ipython",
    "version": 3
   },
   "file_extension": ".py",
   "mimetype": "text/x-python",
   "name": "python",
   "nbconvert_exporter": "python",
   "pygments_lexer": "ipython3",
   "version": "3.9.7"
  },
  "orig_nbformat": 4
 },
 "nbformat": 4,
 "nbformat_minor": 2
}
