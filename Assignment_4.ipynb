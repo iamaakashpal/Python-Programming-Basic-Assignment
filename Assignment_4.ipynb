{
 "cells": [
  {
   "cell_type": "markdown",
   "metadata": {},
   "source": [
    "        1.Write a Python Program to Find the Factorial of a Number?"
   ]
  },
  {
   "cell_type": "code",
   "execution_count": 9,
   "metadata": {},
   "outputs": [
    {
     "name": "stdout",
     "output_type": "stream",
     "text": [
      "Factorial of 7 is 5040.\n"
     ]
    }
   ],
   "source": [
    "a = int(input(\"Enter a Number to find its Factorial : \"))\n",
    "fact = 1\n",
    "for i in range(1,a+1):\n",
    "    fact = fact * i\n",
    "print(\"Factorial of \"+ str(a),\"is\",str(fact)+\".\")"
   ]
  },
  {
   "cell_type": "markdown",
   "metadata": {},
   "source": [
    "        2.Write a Python Program to Display the multiplication Table?"
   ]
  },
  {
   "cell_type": "code",
   "execution_count": 4,
   "metadata": {},
   "outputs": [
    {
     "name": "stdout",
     "output_type": "stream",
     "text": [
      "7 x 1 = 7\n",
      "7 x 2 = 14\n",
      "7 x 3 = 21\n",
      "7 x 4 = 28\n",
      "7 x 5 = 35\n",
      "7 x 6 = 42\n",
      "7 x 7 = 49\n",
      "7 x 8 = 56\n",
      "7 x 9 = 63\n",
      "7 x 10 = 70\n"
     ]
    }
   ],
   "source": [
    "table=int(input(\"Enter a Number to display the multiplication Table : \"))\n",
    "times=int(input(\"Table Upto how many Times : \"))\n",
    "for i in range(1,times+1):\n",
    "    print(str(table)+\" x\",i,'=',table*i)"
   ]
  },
  {
   "cell_type": "markdown",
   "metadata": {},
   "source": [
    "        3.Write a Python Program to Print the Fibonacci sequence?"
   ]
  },
  {
   "cell_type": "code",
   "execution_count": 11,
   "metadata": {},
   "outputs": [
    {
     "name": "stdout",
     "output_type": "stream",
     "text": [
      "0 1 1 2 3 5 8 "
     ]
    }
   ],
   "source": [
    "num=int(input(\"Enter a Range of Digit : \"))\n",
    "f=0\n",
    "s=1\n",
    "for i in range(num):\n",
    "    if i<=1:\n",
    "        next=i\n",
    "    else:\n",
    "        next=f+s\n",
    "        f=s\n",
    "        s=next\n",
    "    print(next,end=\" \")"
   ]
  },
  {
   "cell_type": "markdown",
   "metadata": {},
   "source": [
    "        4.Write a Python Program to Check Armstrong Number?"
   ]
  },
  {
   "cell_type": "code",
   "execution_count": 13,
   "metadata": {},
   "outputs": [
    {
     "name": "stdout",
     "output_type": "stream",
     "text": [
      "370 is an Armstrong Number.\n"
     ]
    }
   ],
   "source": [
    "num = int(input(\"\\nPlease Enter the Number to Check for Armstrong: \"))\n",
    "order = len(str(num))\n",
    "sum = 0\n",
    "\n",
    "temp = num\n",
    "while temp > 0:\n",
    "   rem = temp % 10\n",
    "   sum =sum + rem ** order\n",
    "   temp=temp//10\n",
    "\n",
    "if num == sum:\n",
    "   print(str(num)+\" is an Armstrong Number.\")\n",
    "else:\n",
    "   print(str(num)+\" is not an Armstrong Number.\")\n"
   ]
  },
  {
   "cell_type": "markdown",
   "metadata": {},
   "source": [
    "        5.Write a Python Program to Find Armstrong Number in an Interval?"
   ]
  },
  {
   "cell_type": "code",
   "execution_count": 14,
   "metadata": {},
   "outputs": [
    {
     "name": "stdout",
     "output_type": "stream",
     "text": [
      "Armstrong Number From 1 to 700 are :\n",
      "1 2 3 4 5 6 7 8 9 153 370 371 407 "
     ]
    }
   ],
   "source": [
    "startnum=int(input(\"Enter Starting Number : \"))\n",
    "lastnum=int(input(\"Enter Last Number : \"))\n",
    "print(\"Armstrong Number From\",startnum,\"to\",lastnum,\"are :\")\n",
    "for i in range(startnum,lastnum+1):\n",
    "    power=len(str(i))\n",
    "    sum=0\n",
    "    temp=i\n",
    "    while temp>0:\n",
    "        rem=temp%10\n",
    "        sum=sum+rem**power\n",
    "        temp=temp//10\n",
    "\n",
    "    if i==sum:\n",
    "        print(i,end=\" \")\n"
   ]
  },
  {
   "cell_type": "markdown",
   "metadata": {},
   "source": [
    "        6.Write a Python Program to Find the Sum of Natural Numbers?"
   ]
  },
  {
   "cell_type": "code",
   "execution_count": 15,
   "metadata": {},
   "outputs": [
    {
     "name": "stdout",
     "output_type": "stream",
     "text": [
      "Sum of First 7 Natural Number are :\n",
      "28\n"
     ]
    }
   ],
   "source": [
    "num=int(input(\"Enter Range :\"))\n",
    "print(\"Sum of First \"+str(num)+\" Natural Number are :\")\n",
    "sum=0\n",
    "for i in range(1,num+1):\n",
    "    sum=sum+i\n",
    "print(sum)"
   ]
  }
 ],
 "metadata": {
  "interpreter": {
   "hash": "b3ba2566441a7c06988d0923437866b63cedc61552a5af99d1f4fb67d367b25f"
  },
  "kernelspec": {
   "display_name": "Python 3.9.7 64-bit ('base': conda)",
   "language": "python",
   "name": "python3"
  },
  "language_info": {
   "codemirror_mode": {
    "name": "ipython",
    "version": 3
   },
   "file_extension": ".py",
   "mimetype": "text/x-python",
   "name": "python",
   "nbconvert_exporter": "python",
   "pygments_lexer": "ipython3",
   "version": "3.9.7"
  },
  "orig_nbformat": 4
 },
 "nbformat": 4,
 "nbformat_minor": 2
}
